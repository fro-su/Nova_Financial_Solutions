{
 "cells": [
  {
   "cell_type": "code",
   "execution_count": 8,
   "metadata": {},
   "outputs": [],
   "source": [
    "import pandas as pd"
   ]
  },
  {
   "cell_type": "markdown",
   "metadata": {},
   "source": [
    "load and prepare the data"
   ]
  },
  {
   "cell_type": "code",
   "execution_count": 9,
   "metadata": {},
   "outputs": [],
   "source": [
    "df = pd.read_csv('../data/TSLA_historical_data.csv')"
   ]
  },
  {
   "cell_type": "markdown",
   "metadata": {},
   "source": [
    "Convert the 'Date' column to datetime format"
   ]
  },
  {
   "cell_type": "code",
   "execution_count": 4,
   "metadata": {},
   "outputs": [],
   "source": [
    "df['Date'] = pd.to_datetime(df['Date'])"
   ]
  },
  {
   "cell_type": "code",
   "execution_count": 6,
   "metadata": {},
   "outputs": [],
   "source": [
    "df = df.sort_values('Date')"
   ]
  },
  {
   "cell_type": "markdown",
   "metadata": {},
   "source": [
    "check the data and Ensure includes columns like Open, High, Low, Close, and Volume"
   ]
  },
  {
   "cell_type": "code",
   "execution_count": 8,
   "metadata": {},
   "outputs": [
    {
     "data": {
      "text/html": [
       "<div>\n",
       "<style scoped>\n",
       "    .dataframe tbody tr th:only-of-type {\n",
       "        vertical-align: middle;\n",
       "    }\n",
       "\n",
       "    .dataframe tbody tr th {\n",
       "        vertical-align: top;\n",
       "    }\n",
       "\n",
       "    .dataframe thead th {\n",
       "        text-align: right;\n",
       "    }\n",
       "</style>\n",
       "<table border=\"1\" class=\"dataframe\">\n",
       "  <thead>\n",
       "    <tr style=\"text-align: right;\">\n",
       "      <th></th>\n",
       "      <th>Date</th>\n",
       "      <th>Open</th>\n",
       "      <th>High</th>\n",
       "      <th>Low</th>\n",
       "      <th>Close</th>\n",
       "      <th>Adj Close</th>\n",
       "      <th>Volume</th>\n",
       "      <th>Dividends</th>\n",
       "      <th>Stock Splits</th>\n",
       "    </tr>\n",
       "  </thead>\n",
       "  <tbody>\n",
       "    <tr>\n",
       "      <th>0</th>\n",
       "      <td>2010-06-29</td>\n",
       "      <td>1.266667</td>\n",
       "      <td>1.666667</td>\n",
       "      <td>1.169333</td>\n",
       "      <td>1.592667</td>\n",
       "      <td>1.592667</td>\n",
       "      <td>281494500</td>\n",
       "      <td>0.0</td>\n",
       "      <td>0.0</td>\n",
       "    </tr>\n",
       "    <tr>\n",
       "      <th>1</th>\n",
       "      <td>2010-06-30</td>\n",
       "      <td>1.719333</td>\n",
       "      <td>2.028000</td>\n",
       "      <td>1.553333</td>\n",
       "      <td>1.588667</td>\n",
       "      <td>1.588667</td>\n",
       "      <td>257806500</td>\n",
       "      <td>0.0</td>\n",
       "      <td>0.0</td>\n",
       "    </tr>\n",
       "    <tr>\n",
       "      <th>2</th>\n",
       "      <td>2010-07-01</td>\n",
       "      <td>1.666667</td>\n",
       "      <td>1.728000</td>\n",
       "      <td>1.351333</td>\n",
       "      <td>1.464000</td>\n",
       "      <td>1.464000</td>\n",
       "      <td>123282000</td>\n",
       "      <td>0.0</td>\n",
       "      <td>0.0</td>\n",
       "    </tr>\n",
       "    <tr>\n",
       "      <th>3</th>\n",
       "      <td>2010-07-02</td>\n",
       "      <td>1.533333</td>\n",
       "      <td>1.540000</td>\n",
       "      <td>1.247333</td>\n",
       "      <td>1.280000</td>\n",
       "      <td>1.280000</td>\n",
       "      <td>77097000</td>\n",
       "      <td>0.0</td>\n",
       "      <td>0.0</td>\n",
       "    </tr>\n",
       "    <tr>\n",
       "      <th>4</th>\n",
       "      <td>2010-07-06</td>\n",
       "      <td>1.333333</td>\n",
       "      <td>1.333333</td>\n",
       "      <td>1.055333</td>\n",
       "      <td>1.074000</td>\n",
       "      <td>1.074000</td>\n",
       "      <td>103003500</td>\n",
       "      <td>0.0</td>\n",
       "      <td>0.0</td>\n",
       "    </tr>\n",
       "  </tbody>\n",
       "</table>\n",
       "</div>"
      ],
      "text/plain": [
       "        Date      Open      High       Low     Close  Adj Close     Volume  \\\n",
       "0 2010-06-29  1.266667  1.666667  1.169333  1.592667   1.592667  281494500   \n",
       "1 2010-06-30  1.719333  2.028000  1.553333  1.588667   1.588667  257806500   \n",
       "2 2010-07-01  1.666667  1.728000  1.351333  1.464000   1.464000  123282000   \n",
       "3 2010-07-02  1.533333  1.540000  1.247333  1.280000   1.280000   77097000   \n",
       "4 2010-07-06  1.333333  1.333333  1.055333  1.074000   1.074000  103003500   \n",
       "\n",
       "   Dividends  Stock Splits  \n",
       "0        0.0           0.0  \n",
       "1        0.0           0.0  \n",
       "2        0.0           0.0  \n",
       "3        0.0           0.0  \n",
       "4        0.0           0.0  "
      ]
     },
     "execution_count": 8,
     "metadata": {},
     "output_type": "execute_result"
    }
   ],
   "source": [
    "df.head()"
   ]
  },
  {
   "cell_type": "markdown",
   "metadata": {},
   "source": [
    "#Apply Analysis Indicators with TA-Lib"
   ]
  },
  {
   "cell_type": "code",
   "execution_count": 10,
   "metadata": {},
   "outputs": [],
   "source": [
    "import talib as ta"
   ]
  },
  {
   "cell_type": "markdown",
   "metadata": {},
   "source": [
    "Calculate the 20-day Simple Moving Average (SMA)"
   ]
  },
  {
   "cell_type": "code",
   "execution_count": 34,
   "metadata": {},
   "outputs": [],
   "source": [
    "\n",
    "df['SMA_20'] = ta.SMA(df['Close'], timeperiod=20)\n",
    "df['EMA_20'] = ta.EMA(df['Close'], timeperiod=20)"
   ]
  },
  {
   "cell_type": "markdown",
   "metadata": {},
   "source": [
    "Calculate the 14-day Relative Strength Index (RSI)"
   ]
  },
  {
   "cell_type": "code",
   "execution_count": 35,
   "metadata": {},
   "outputs": [],
   "source": [
    "df['RSI_14'] = ta.RSI(df['Close'], timeperiod=14)"
   ]
  },
  {
   "cell_type": "code",
   "execution_count": 36,
   "metadata": {},
   "outputs": [],
   "source": [
    "# Calculate the MACD, MACD Signal, and MACD Histogram\n",
    "df['MACD'], df['MACD_signal'], df['MACD_hist'] = ta.MACD(df['Close'], fastperiod=12, slowperiod=26, signalperiod=9)\n"
   ]
  },
  {
   "cell_type": "markdown",
   "metadata": {},
   "source": [
    " Display the first few rows with the new indicators"
   ]
  },
  {
   "cell_type": "code",
   "execution_count": 41,
   "metadata": {},
   "outputs": [
    {
     "name": "stdout",
     "output_type": "stream",
     "text": [
      "          Date     Close    SMA_20    EMA_20     RSI_14      MACD  \\\n",
      "66  2010-10-01  1.373333  1.382133  1.368778  52.056543  0.023779   \n",
      "67  2010-10-04  1.399333  1.381933  1.371688  54.360657  0.023375   \n",
      "68  2010-10-05  1.408000  1.383867  1.375147  55.134699  0.023483   \n",
      "69  2010-10-06  1.364000  1.382400  1.374085  50.456177  0.019790   \n",
      "70  2010-10-07  1.362000  1.381467  1.372934  50.247461  0.016512   \n",
      "71  2010-10-08  1.362000  1.382333  1.371893  50.247461  0.013755   \n",
      "72  2010-10-11  1.349333  1.380733  1.369744  48.765725  0.010428   \n",
      "73  2010-10-12  1.349333  1.377800  1.367800  48.765725  0.007703   \n",
      "74  2010-10-13  1.369333  1.373000  1.367946  51.390575  0.007075   \n",
      "75  2010-10-14  1.383333  1.372367  1.369412  53.198118  0.007619   \n",
      "76  2010-10-15  1.369333  1.373400  1.369404  51.149803  0.006842   \n",
      "77  2010-10-18  1.348667  1.370633  1.367429  48.199555  0.004507   \n",
      "78  2010-10-19  1.336667  1.368233  1.364499  46.521595  0.001669   \n",
      "79  2010-10-20  1.376667  1.370833  1.365658  52.462301  0.002617   \n",
      "80  2010-10-21  1.383333  1.374800  1.367342  53.391503  0.003861   \n",
      "81  2010-10-22  1.381333  1.376867  1.368674  53.056416  0.004633   \n",
      "82  2010-10-25  1.390000  1.377933  1.370705  54.392250  0.005876   \n",
      "83  2010-10-26  1.424000  1.377800  1.375781  59.286744  0.009496   \n",
      "84  2010-10-27  1.400000  1.374533  1.378087  54.814914  0.010308   \n",
      "85  2010-10-28  1.412667  1.377133  1.381381  56.672462  0.011838   \n",
      "86  2010-10-29  1.456000  1.381267  1.388487  62.371355  0.016359   \n",
      "87  2010-11-01  1.427333  1.382667  1.392187  57.027449  0.017427   \n",
      "88  2010-11-02  1.416667  1.383100  1.394518  55.134655  0.017215   \n",
      "89  2010-11-03  1.451333  1.387467  1.399929  59.804321  0.019618   \n",
      "90  2010-11-04  1.660000  1.402367  1.424698  75.998233  0.037922   \n",
      "\n",
      "    MACD_signal  MACD_hist  \n",
      "66     0.029346  -0.005567  \n",
      "67     0.028152  -0.004777  \n",
      "68     0.027218  -0.003735  \n",
      "69     0.025732  -0.005942  \n",
      "70     0.023888  -0.007377  \n",
      "71     0.021862  -0.008107  \n",
      "72     0.019575  -0.009147  \n",
      "73     0.017200  -0.009498  \n",
      "74     0.015175  -0.008100  \n",
      "75     0.013664  -0.006045  \n",
      "76     0.012300  -0.005457  \n",
      "77     0.010741  -0.006234  \n",
      "78     0.008927  -0.007258  \n",
      "79     0.007665  -0.005048  \n",
      "80     0.006904  -0.003043  \n",
      "81     0.006450  -0.001817  \n",
      "82     0.006335  -0.000459  \n",
      "83     0.006967   0.002528  \n",
      "84     0.007635   0.002673  \n",
      "85     0.008476   0.003362  \n",
      "86     0.010053   0.006306  \n",
      "87     0.011527   0.005900  \n",
      "88     0.012665   0.004550  \n",
      "89     0.014056   0.005562  \n",
      "90     0.018829   0.019094  \n"
     ]
    }
   ],
   "source": [
    "df = df.dropna(subset=['SMA_20'])\n",
    "df = df.dropna(subset=['EMA_20'])\n",
    "df = df.dropna(subset=['MACD'])\n",
    "df = df.dropna(subset=['MACD_signal'])\n",
    "df = df.dropna(subset=['MACD_hist'])\n",
    "print(df[['Date', 'Close', 'SMA_20', 'EMA_20', 'RSI_14', 'MACD', 'MACD_signal', 'MACD_hist']].head(25))\n"
   ]
  },
  {
   "cell_type": "markdown",
   "metadata": {},
   "source": [
    "Create visualizations to better understand the data and the impact of different indicators on the stock price"
   ]
  },
  {
   "cell_type": "markdown",
   "metadata": {},
   "source": [
    "Plot the stock price along with the moving averages\n"
   ]
  },
  {
   "cell_type": "code",
   "execution_count": null,
   "metadata": {},
   "outputs": [],
   "source": []
  }
 ],
 "metadata": {
  "kernelspec": {
   "display_name": ".venv_firew",
   "language": "python",
   "name": "python3"
  },
  "language_info": {
   "codemirror_mode": {
    "name": "ipython",
    "version": 3
   },
   "file_extension": ".py",
   "mimetype": "text/x-python",
   "name": "python",
   "nbconvert_exporter": "python",
   "pygments_lexer": "ipython3",
   "version": "3.10.6"
  }
 },
 "nbformat": 4,
 "nbformat_minor": 2
}
