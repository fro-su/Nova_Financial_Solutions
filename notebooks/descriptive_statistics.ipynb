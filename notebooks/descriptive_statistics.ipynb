{
 "cells": [
  {
   "cell_type": "markdown",
   "metadata": {},
   "source": [
    "# Import libraries"
   ]
  },
  {
   "cell_type": "code",
   "execution_count": 3,
   "metadata": {},
   "outputs": [],
   "source": [
    "\n",
    "import pandas as pd\n",
    "import numpy as np\n",
    "import matplotlib.pyplot as plt\n",
    "from textblob import TextBlob\n",
    "import seaborn as sns\n",
    "from datetime import datetime\n",
    "import nltk\n",
    "from nltk.corpus import stopwords\n",
    "from wordcloud import WordCloud"
   ]
  },
  {
   "cell_type": "markdown",
   "metadata": {},
   "source": [
    "# Loading the dataset"
   ]
  },
  {
   "cell_type": "code",
   "execution_count": 4,
   "metadata": {},
   "outputs": [],
   "source": [
    "df = pd.read_csv('../data/raw_analyst_ratings.csv')"
   ]
  },
  {
   "cell_type": "code",
   "execution_count": 5,
   "metadata": {},
   "outputs": [
    {
     "name": "stdout",
     "output_type": "stream",
     "text": [
      "         Unnamed: 0                                           headline  \\\n",
      "0                 0            Stocks That Hit 52-Week Highs On Friday   \n",
      "1                 1         Stocks That Hit 52-Week Highs On Wednesday   \n",
      "2                 2                      71 Biggest Movers From Friday   \n",
      "3                 3       46 Stocks Moving In Friday's Mid-Day Session   \n",
      "4                 4  B of A Securities Maintains Neutral on Agilent...   \n",
      "...             ...                                                ...   \n",
      "1407323     1413844             Top Narrow Based Indexes For August 29   \n",
      "1407324     1413845  Recap: Wednesday's Top Percentage Gainers and ...   \n",
      "1407325     1413846  UPDATE: Oppenheimer Color on China Zenix Auto ...   \n",
      "1407326     1413847  Oppenheimer Initiates China Zenix At Outperfor...   \n",
      "1407327     1413848  China Zenix Auto International Opens For Tradi...   \n",
      "\n",
      "                                                       url          publisher  \\\n",
      "0        https://www.benzinga.com/news/20/06/16190091/s...  Benzinga Insights   \n",
      "1        https://www.benzinga.com/news/20/06/16170189/s...  Benzinga Insights   \n",
      "2        https://www.benzinga.com/news/20/05/16103463/7...         Lisa Levin   \n",
      "3        https://www.benzinga.com/news/20/05/16095921/4...         Lisa Levin   \n",
      "4        https://www.benzinga.com/news/20/05/16095304/b...         Vick Meyer   \n",
      "...                                                    ...                ...   \n",
      "1407323  https://www.benzinga.com/news/11/08/1888782/to...      Monica Gerson   \n",
      "1407324  https://www.benzinga.com/news/earnings/11/06/1...       Benjamin Lee   \n",
      "1407325  https://www.benzinga.com/analyst-ratings/analy...     BenzingaStaffL   \n",
      "1407326  https://www.benzinga.com/analyst-ratings/price...          Joe Young   \n",
      "1407327  https://www.benzinga.com/news/ipos/11/05/10789...      Allie Wickman   \n",
      "\n",
      "                              date stock  \n",
      "0        2020-06-05 10:30:54-04:00     A  \n",
      "1        2020-06-03 10:45:20-04:00     A  \n",
      "2        2020-05-26 04:30:07-04:00     A  \n",
      "3        2020-05-22 12:45:06-04:00     A  \n",
      "4        2020-05-22 11:38:59-04:00     A  \n",
      "...                            ...   ...  \n",
      "1407323        2011-08-29 00:00:00    ZX  \n",
      "1407324        2011-06-22 00:00:00    ZX  \n",
      "1407325        2011-06-21 00:00:00    ZX  \n",
      "1407326        2011-06-21 00:00:00    ZX  \n",
      "1407327        2011-05-12 00:00:00    ZX  \n",
      "\n",
      "[1407328 rows x 6 columns]\n"
     ]
    }
   ],
   "source": [
    "\n",
    "print(df)"
   ]
  }
 ],
 "metadata": {
  "kernelspec": {
   "display_name": ".venv_firew",
   "language": "python",
   "name": "python3"
  },
  "language_info": {
   "codemirror_mode": {
    "name": "ipython",
    "version": 3
   },
   "file_extension": ".py",
   "mimetype": "text/x-python",
   "name": "python",
   "nbconvert_exporter": "python",
   "pygments_lexer": "ipython3",
   "version": "3.10.6"
  }
 },
 "nbformat": 4,
 "nbformat_minor": 2
}
